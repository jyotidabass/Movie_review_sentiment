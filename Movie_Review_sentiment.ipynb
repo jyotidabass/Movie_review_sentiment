{
  "nbformat": 4,
  "nbformat_minor": 0,
  "metadata": {
    "colab": {
      "name": "Movie_Review_sentiment.ipynb",
      "provenance": [],
      "authorship_tag": "ABX9TyNSLmtkeTSWUTKSU5a/MElc",
      "include_colab_link": true
    },
    "kernelspec": {
      "name": "python3",
      "display_name": "Python 3"
    },
    "language_info": {
      "name": "python"
    }
  },
  "cells": [
    {
      "cell_type": "markdown",
      "metadata": {
        "id": "view-in-github",
        "colab_type": "text"
      },
      "source": [
        "<a href=\"https://colab.research.google.com/github/jyotidabass/Movie_review_sentiment/blob/main/Movie_Review_sentiment.ipynb\" target=\"_parent\"><img src=\"https://colab.research.google.com/assets/colab-badge.svg\" alt=\"Open In Colab\"/></a>"
      ]
    },
    {
      "cell_type": "markdown",
      "source": [
        "Download dataset from this link https://www.kaggle.com/datasets/lakshmi25npathi/imdb-dataset-of-50k-movie-reviews?resource=download"
      ],
      "metadata": {
        "id": "BB_7ft0nVOOe"
      }
    },
    {
      "cell_type": "code",
      "execution_count": 6,
      "metadata": {
        "colab": {
          "base_uri": "https://localhost:8080/"
        },
        "id": "xnSd_gNKItVX",
        "outputId": "d69694fb-292c-4c6d-8ab7-73de829e1e70"
      },
      "outputs": [
        {
          "output_type": "stream",
          "name": "stdout",
          "text": [
            "[nltk_data] Downloading package punkt to /root/nltk_data...\n",
            "[nltk_data]   Unzipping tokenizers/punkt.zip.\n",
            "Fold: 4\n",
            "Accuracy = 0.8893\n",
            "\n"
          ]
        },
        {
          "output_type": "stream",
          "name": "stderr",
          "text": [
            "/usr/local/lib/python3.7/dist-packages/sklearn/linear_model/_logistic.py:818: ConvergenceWarning: lbfgs failed to converge (status=1):\n",
            "STOP: TOTAL NO. of ITERATIONS REACHED LIMIT.\n",
            "\n",
            "Increase the number of iterations (max_iter) or scale the data as shown in:\n",
            "    https://scikit-learn.org/stable/modules/preprocessing.html\n",
            "Please also refer to the documentation for alternative solver options:\n",
            "    https://scikit-learn.org/stable/modules/linear_model.html#logistic-regression\n",
            "  extra_warning_msg=_LOGISTIC_SOLVER_CONVERGENCE_MSG,\n"
          ]
        }
      ],
      "source": [
        "# import what we need\n",
        "import nltk\n",
        "nltk.download('punkt')\n",
        "import pandas as pd\n",
        "from nltk.tokenize import word_tokenize\n",
        "from sklearn import linear_model\n",
        "from sklearn import metrics\n",
        "from sklearn import model_selection\n",
        "from sklearn.feature_extraction.text import CountVectorizer\n",
        "if __name__ == \"__main__\":\n",
        " # read the training data\n",
        " df = pd.read_csv(\"/content/sample_data/IMDB Dataset.csv\")\n",
        " # map positive to 1 and negative to 0\n",
        " df.sentiment = df.sentiment.apply(\n",
        " lambda x: 1 if x == \"positive\" else 0\n",
        " )\n",
        " # we create a new column called kfold and fill it with -1\n",
        " df[\"kfold\"] = -1\n",
        "\n",
        " # the next step is to randomize the rows of the data\n",
        " df = df.sample(frac=1).reset_index(drop=True)\n",
        "\n",
        " # fetch labels\n",
        " y = df.sentiment.values\n",
        "\n",
        " # initiate the kfold class from model_selection module\n",
        " kf = model_selection.StratifiedKFold(n_splits=5)\n",
        "\n",
        " # fill the new kfold column\n",
        " for f, (t_, v_) in enumerate(kf.split(X=df, y=y)):\n",
        "   df.loc[v_, 'kfold'] = f\n",
        " # we go over the folds created\n",
        " for fold_ in range(5):\n",
        " # temporary dataframes for train and test\n",
        "   train_df = df[df.kfold != fold_].reset_index(drop=True)\n",
        "   test_df = df[df.kfold == fold_].reset_index(drop=True)\n",
        " # initialize CountVectorizer with NLTK's word_tokenize\n",
        " # function as tokenizer\n",
        " count_vec = CountVectorizer(\n",
        " tokenizer=word_tokenize,\n",
        " token_pattern=None\n",
        " )\n",
        " # fit count_vec on training data reviews\n",
        " count_vec.fit(train_df.review)\n",
        " # transform training and validation data reviews\n",
        " xtrain = count_vec.transform(train_df.review)\n",
        " xtest = count_vec.transform(test_df.review)\n",
        " # initialize logistic regression model\n",
        " model = linear_model.LogisticRegression()\n",
        " # fit the model on training data reviews and sentiment\n",
        " model.fit(xtrain, train_df.sentiment)\n",
        " # make predictions on test data\n",
        " # threshold for predictions is 0.5\n",
        " preds = model.predict(xtest)\n",
        " # calculate accuracy\n",
        " accuracy = metrics.accuracy_score(test_df.sentiment, preds)\n",
        " print(f\"Fold: {fold_}\")\n",
        " print(f\"Accuracy = {accuracy}\")\n",
        " print(\"\")"
      ]
    }
  ]
}